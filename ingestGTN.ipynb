{
 "cells": [
  {
   "cell_type": "code",
   "execution_count": 14,
   "metadata": {},
   "outputs": [],
   "source": [
    "import os\n",
    "import shutil\n",
    "\n",
    "def find_md_files(directory:str) -> list:\n",
    "    \"\"\" Finds all tutorial markdown files\"\"\"\n",
    "    md_files = []\n",
    "\n",
    "    for root, dirs, files in os.walk(directory):\n",
    "        for file in files:\n",
    "            if file.endswith(\"tutorial.md\"):\n",
    "                file_path = os.path.join(root, file)\n",
    "                md_files.append(file_path)\n",
    "    print(md_files)\n",
    "    return md_files\n",
    "\n",
    "# Copy all tutorial markdown files to the docs directory\n",
    "def copy_md_files(md_files:list, docs_dir:str):\n",
    "    for file in md_files:\n",
    "        file_name =  os.path.basename(file[:-1])\n",
    "        print(file_name)\n",
    "        new_file_path = os.path.join(docs_dir, file_name)\n",
    "        shutil.copy(file, new_file_path)\n",
    "    return None"
   ]
  },
  {
   "cell_type": "code",
   "execution_count": null,
   "metadata": {},
   "outputs": [],
   "source": [
    "dir= \"../Embeddings/training-material/topics\"\n",
    "# find_md_files(directory=dir)\n",
    "test = copy_md_files(md_files=find_md_files(directory=dir), docs_dir=\"docs\")"
   ]
  }
 ],
 "metadata": {
  "kernelspec": {
   "display_name": "Python 3",
   "language": "python",
   "name": "python3"
  },
  "language_info": {
   "codemirror_mode": {
    "name": "ipython",
    "version": 3
   },
   "file_extension": ".py",
   "mimetype": "text/x-python",
   "name": "python",
   "nbconvert_exporter": "python",
   "pygments_lexer": "ipython3",
   "version": "3.12.2"
  }
 },
 "nbformat": 4,
 "nbformat_minor": 2
}
